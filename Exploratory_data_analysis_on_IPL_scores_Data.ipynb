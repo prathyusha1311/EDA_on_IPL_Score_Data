{
  "nbformat": 4,
  "nbformat_minor": 0,
  "metadata": {
    "colab": {
      "name": "Exploratory data analysis on IPL scores Data.ipynb",
      "provenance": [],
      "mount_file_id": "13whcusIj5eyW2672EqdaRlG5ID5lfIjY",
      "authorship_tag": "ABX9TyPL7qR6fftFNB3xkanXd8Q7",
      "include_colab_link": true
    },
    "kernelspec": {
      "name": "python3",
      "display_name": "Python 3"
    },
    "language_info": {
      "name": "python"
    }
  },
  "cells": [
    {
      "cell_type": "markdown",
      "metadata": {
        "id": "view-in-github",
        "colab_type": "text"
      },
      "source": [
        "<a href=\"https://colab.research.google.com/github/prathyusha1311/EDA_on_IPL_Score_Data/blob/main/Exploratory_data_analysis_on_IPL_scores_Data.ipynb\" target=\"_parent\"><img src=\"https://colab.research.google.com/assets/colab-badge.svg\" alt=\"Open In Colab\"/></a>"
      ]
    },
    {
      "cell_type": "markdown",
      "metadata": {
        "id": "NMfcTQOKOO0q"
      },
      "source": [
        "# **EDA on IPL Score Data**\n",
        "# Done by N Prathyusha\n",
        "\n",
        "## Task 2 on Tathastu Data Science and ML Internship by Two waits\n"
      ]
    },
    {
      "cell_type": "markdown",
      "metadata": {
        "id": "ZR-Ib3NAPJAr"
      },
      "source": [
        "Importing the required libraries for performing EDA:"
      ]
    },
    {
      "cell_type": "code",
      "metadata": {
        "id": "J8nvWPfOKipI"
      },
      "source": [
        "import pandas as pd\n",
        "import numpy as np\n",
        "import seaborn as sns\n",
        "import matplotlib.pyplot as plt\n",
        "%matplotlib inline"
      ],
      "execution_count": 1,
      "outputs": []
    },
    {
      "cell_type": "code",
      "metadata": {
        "id": "ZWmBGthKPeXk"
      },
      "source": [
        "data = pd.read_csv('/content/drive/MyDrive/two waits /matches.csv')"
      ],
      "execution_count": 5,
      "outputs": []
    },
    {
      "cell_type": "code",
      "metadata": {
        "colab": {
          "base_uri": "https://localhost:8080/",
          "height": 787
        },
        "id": "Y3rm0v7vQEo0",
        "outputId": "62de324e-4677-49bf-cd62-9853955b757c"
      },
      "source": [
        "data.head(10)"
      ],
      "execution_count": 6,
      "outputs": [
        {
          "output_type": "execute_result",
          "data": {
            "text/html": [
              "<div>\n",
              "<style scoped>\n",
              "    .dataframe tbody tr th:only-of-type {\n",
              "        vertical-align: middle;\n",
              "    }\n",
              "\n",
              "    .dataframe tbody tr th {\n",
              "        vertical-align: top;\n",
              "    }\n",
              "\n",
              "    .dataframe thead th {\n",
              "        text-align: right;\n",
              "    }\n",
              "</style>\n",
              "<table border=\"1\" class=\"dataframe\">\n",
              "  <thead>\n",
              "    <tr style=\"text-align: right;\">\n",
              "      <th></th>\n",
              "      <th>id</th>\n",
              "      <th>season</th>\n",
              "      <th>city</th>\n",
              "      <th>date</th>\n",
              "      <th>team1</th>\n",
              "      <th>team2</th>\n",
              "      <th>toss_winner</th>\n",
              "      <th>toss_decision</th>\n",
              "      <th>result</th>\n",
              "      <th>dl_applied</th>\n",
              "      <th>winner</th>\n",
              "      <th>win_by_runs</th>\n",
              "      <th>win_by_wickets</th>\n",
              "      <th>player_of_match</th>\n",
              "      <th>venue</th>\n",
              "      <th>umpire1</th>\n",
              "      <th>umpire2</th>\n",
              "      <th>umpire3</th>\n",
              "    </tr>\n",
              "  </thead>\n",
              "  <tbody>\n",
              "    <tr>\n",
              "      <th>0</th>\n",
              "      <td>1</td>\n",
              "      <td>2017</td>\n",
              "      <td>Hyderabad</td>\n",
              "      <td>2017-04-05</td>\n",
              "      <td>Sunrisers Hyderabad</td>\n",
              "      <td>Royal Challengers Bangalore</td>\n",
              "      <td>Royal Challengers Bangalore</td>\n",
              "      <td>field</td>\n",
              "      <td>normal</td>\n",
              "      <td>0</td>\n",
              "      <td>Sunrisers Hyderabad</td>\n",
              "      <td>35</td>\n",
              "      <td>0</td>\n",
              "      <td>Yuvraj Singh</td>\n",
              "      <td>Rajiv Gandhi International Stadium, Uppal</td>\n",
              "      <td>AY Dandekar</td>\n",
              "      <td>NJ Llong</td>\n",
              "      <td>NaN</td>\n",
              "    </tr>\n",
              "    <tr>\n",
              "      <th>1</th>\n",
              "      <td>2</td>\n",
              "      <td>2017</td>\n",
              "      <td>Pune</td>\n",
              "      <td>2017-04-06</td>\n",
              "      <td>Mumbai Indians</td>\n",
              "      <td>Rising Pune Supergiant</td>\n",
              "      <td>Rising Pune Supergiant</td>\n",
              "      <td>field</td>\n",
              "      <td>normal</td>\n",
              "      <td>0</td>\n",
              "      <td>Rising Pune Supergiant</td>\n",
              "      <td>0</td>\n",
              "      <td>7</td>\n",
              "      <td>SPD Smith</td>\n",
              "      <td>Maharashtra Cricket Association Stadium</td>\n",
              "      <td>A Nand Kishore</td>\n",
              "      <td>S Ravi</td>\n",
              "      <td>NaN</td>\n",
              "    </tr>\n",
              "    <tr>\n",
              "      <th>2</th>\n",
              "      <td>3</td>\n",
              "      <td>2017</td>\n",
              "      <td>Rajkot</td>\n",
              "      <td>2017-04-07</td>\n",
              "      <td>Gujarat Lions</td>\n",
              "      <td>Kolkata Knight Riders</td>\n",
              "      <td>Kolkata Knight Riders</td>\n",
              "      <td>field</td>\n",
              "      <td>normal</td>\n",
              "      <td>0</td>\n",
              "      <td>Kolkata Knight Riders</td>\n",
              "      <td>0</td>\n",
              "      <td>10</td>\n",
              "      <td>CA Lynn</td>\n",
              "      <td>Saurashtra Cricket Association Stadium</td>\n",
              "      <td>Nitin Menon</td>\n",
              "      <td>CK Nandan</td>\n",
              "      <td>NaN</td>\n",
              "    </tr>\n",
              "    <tr>\n",
              "      <th>3</th>\n",
              "      <td>4</td>\n",
              "      <td>2017</td>\n",
              "      <td>Indore</td>\n",
              "      <td>2017-04-08</td>\n",
              "      <td>Rising Pune Supergiant</td>\n",
              "      <td>Kings XI Punjab</td>\n",
              "      <td>Kings XI Punjab</td>\n",
              "      <td>field</td>\n",
              "      <td>normal</td>\n",
              "      <td>0</td>\n",
              "      <td>Kings XI Punjab</td>\n",
              "      <td>0</td>\n",
              "      <td>6</td>\n",
              "      <td>GJ Maxwell</td>\n",
              "      <td>Holkar Cricket Stadium</td>\n",
              "      <td>AK Chaudhary</td>\n",
              "      <td>C Shamshuddin</td>\n",
              "      <td>NaN</td>\n",
              "    </tr>\n",
              "    <tr>\n",
              "      <th>4</th>\n",
              "      <td>5</td>\n",
              "      <td>2017</td>\n",
              "      <td>Bangalore</td>\n",
              "      <td>2017-04-08</td>\n",
              "      <td>Royal Challengers Bangalore</td>\n",
              "      <td>Delhi Daredevils</td>\n",
              "      <td>Royal Challengers Bangalore</td>\n",
              "      <td>bat</td>\n",
              "      <td>normal</td>\n",
              "      <td>0</td>\n",
              "      <td>Royal Challengers Bangalore</td>\n",
              "      <td>15</td>\n",
              "      <td>0</td>\n",
              "      <td>KM Jadhav</td>\n",
              "      <td>M Chinnaswamy Stadium</td>\n",
              "      <td>NaN</td>\n",
              "      <td>NaN</td>\n",
              "      <td>NaN</td>\n",
              "    </tr>\n",
              "    <tr>\n",
              "      <th>5</th>\n",
              "      <td>6</td>\n",
              "      <td>2017</td>\n",
              "      <td>Hyderabad</td>\n",
              "      <td>2017-04-09</td>\n",
              "      <td>Gujarat Lions</td>\n",
              "      <td>Sunrisers Hyderabad</td>\n",
              "      <td>Sunrisers Hyderabad</td>\n",
              "      <td>field</td>\n",
              "      <td>normal</td>\n",
              "      <td>0</td>\n",
              "      <td>Sunrisers Hyderabad</td>\n",
              "      <td>0</td>\n",
              "      <td>9</td>\n",
              "      <td>Rashid Khan</td>\n",
              "      <td>Rajiv Gandhi International Stadium, Uppal</td>\n",
              "      <td>A Deshmukh</td>\n",
              "      <td>NJ Llong</td>\n",
              "      <td>NaN</td>\n",
              "    </tr>\n",
              "    <tr>\n",
              "      <th>6</th>\n",
              "      <td>7</td>\n",
              "      <td>2017</td>\n",
              "      <td>Mumbai</td>\n",
              "      <td>2017-04-09</td>\n",
              "      <td>Kolkata Knight Riders</td>\n",
              "      <td>Mumbai Indians</td>\n",
              "      <td>Mumbai Indians</td>\n",
              "      <td>field</td>\n",
              "      <td>normal</td>\n",
              "      <td>0</td>\n",
              "      <td>Mumbai Indians</td>\n",
              "      <td>0</td>\n",
              "      <td>4</td>\n",
              "      <td>N Rana</td>\n",
              "      <td>Wankhede Stadium</td>\n",
              "      <td>Nitin Menon</td>\n",
              "      <td>CK Nandan</td>\n",
              "      <td>NaN</td>\n",
              "    </tr>\n",
              "    <tr>\n",
              "      <th>7</th>\n",
              "      <td>8</td>\n",
              "      <td>2017</td>\n",
              "      <td>Indore</td>\n",
              "      <td>2017-04-10</td>\n",
              "      <td>Royal Challengers Bangalore</td>\n",
              "      <td>Kings XI Punjab</td>\n",
              "      <td>Royal Challengers Bangalore</td>\n",
              "      <td>bat</td>\n",
              "      <td>normal</td>\n",
              "      <td>0</td>\n",
              "      <td>Kings XI Punjab</td>\n",
              "      <td>0</td>\n",
              "      <td>8</td>\n",
              "      <td>AR Patel</td>\n",
              "      <td>Holkar Cricket Stadium</td>\n",
              "      <td>AK Chaudhary</td>\n",
              "      <td>C Shamshuddin</td>\n",
              "      <td>NaN</td>\n",
              "    </tr>\n",
              "    <tr>\n",
              "      <th>8</th>\n",
              "      <td>9</td>\n",
              "      <td>2017</td>\n",
              "      <td>Pune</td>\n",
              "      <td>2017-04-11</td>\n",
              "      <td>Delhi Daredevils</td>\n",
              "      <td>Rising Pune Supergiant</td>\n",
              "      <td>Rising Pune Supergiant</td>\n",
              "      <td>field</td>\n",
              "      <td>normal</td>\n",
              "      <td>0</td>\n",
              "      <td>Delhi Daredevils</td>\n",
              "      <td>97</td>\n",
              "      <td>0</td>\n",
              "      <td>SV Samson</td>\n",
              "      <td>Maharashtra Cricket Association Stadium</td>\n",
              "      <td>AY Dandekar</td>\n",
              "      <td>S Ravi</td>\n",
              "      <td>NaN</td>\n",
              "    </tr>\n",
              "    <tr>\n",
              "      <th>9</th>\n",
              "      <td>10</td>\n",
              "      <td>2017</td>\n",
              "      <td>Mumbai</td>\n",
              "      <td>2017-04-12</td>\n",
              "      <td>Sunrisers Hyderabad</td>\n",
              "      <td>Mumbai Indians</td>\n",
              "      <td>Mumbai Indians</td>\n",
              "      <td>field</td>\n",
              "      <td>normal</td>\n",
              "      <td>0</td>\n",
              "      <td>Mumbai Indians</td>\n",
              "      <td>0</td>\n",
              "      <td>4</td>\n",
              "      <td>JJ Bumrah</td>\n",
              "      <td>Wankhede Stadium</td>\n",
              "      <td>Nitin Menon</td>\n",
              "      <td>CK Nandan</td>\n",
              "      <td>NaN</td>\n",
              "    </tr>\n",
              "  </tbody>\n",
              "</table>\n",
              "</div>"
            ],
            "text/plain": [
              "   id  season       city  ...         umpire1        umpire2 umpire3\n",
              "0   1    2017  Hyderabad  ...     AY Dandekar       NJ Llong     NaN\n",
              "1   2    2017       Pune  ...  A Nand Kishore         S Ravi     NaN\n",
              "2   3    2017     Rajkot  ...     Nitin Menon      CK Nandan     NaN\n",
              "3   4    2017     Indore  ...    AK Chaudhary  C Shamshuddin     NaN\n",
              "4   5    2017  Bangalore  ...             NaN            NaN     NaN\n",
              "5   6    2017  Hyderabad  ...      A Deshmukh       NJ Llong     NaN\n",
              "6   7    2017     Mumbai  ...     Nitin Menon      CK Nandan     NaN\n",
              "7   8    2017     Indore  ...    AK Chaudhary  C Shamshuddin     NaN\n",
              "8   9    2017       Pune  ...     AY Dandekar         S Ravi     NaN\n",
              "9  10    2017     Mumbai  ...     Nitin Menon      CK Nandan     NaN\n",
              "\n",
              "[10 rows x 18 columns]"
            ]
          },
          "metadata": {},
          "execution_count": 6
        }
      ]
    },
    {
      "cell_type": "markdown",
      "metadata": {
        "id": "xYWOLwduQ4ax"
      },
      "source": [
        "Shape of the data :"
      ]
    },
    {
      "cell_type": "code",
      "metadata": {
        "colab": {
          "base_uri": "https://localhost:8080/"
        },
        "id": "XRI51NDZQJtI",
        "outputId": "803a169c-c032-4da4-9c17-58f9f2dfb9d6"
      },
      "source": [
        "data.shape"
      ],
      "execution_count": 7,
      "outputs": [
        {
          "output_type": "execute_result",
          "data": {
            "text/plain": [
              "(756, 18)"
            ]
          },
          "metadata": {},
          "execution_count": 7
        }
      ]
    },
    {
      "cell_type": "code",
      "metadata": {
        "colab": {
          "base_uri": "https://localhost:8080/"
        },
        "id": "zGHgGEaPQ8xH",
        "outputId": "52ef8d65-c923-49f2-c0f3-7dd170e188c0"
      },
      "source": [
        "data.info()"
      ],
      "execution_count": 8,
      "outputs": [
        {
          "output_type": "stream",
          "name": "stdout",
          "text": [
            "<class 'pandas.core.frame.DataFrame'>\n",
            "RangeIndex: 756 entries, 0 to 755\n",
            "Data columns (total 18 columns):\n",
            " #   Column           Non-Null Count  Dtype \n",
            "---  ------           --------------  ----- \n",
            " 0   id               756 non-null    int64 \n",
            " 1   season           756 non-null    int64 \n",
            " 2   city             749 non-null    object\n",
            " 3   date             756 non-null    object\n",
            " 4   team1            756 non-null    object\n",
            " 5   team2            756 non-null    object\n",
            " 6   toss_winner      756 non-null    object\n",
            " 7   toss_decision    756 non-null    object\n",
            " 8   result           756 non-null    object\n",
            " 9   dl_applied       756 non-null    int64 \n",
            " 10  winner           752 non-null    object\n",
            " 11  win_by_runs      756 non-null    int64 \n",
            " 12  win_by_wickets   756 non-null    int64 \n",
            " 13  player_of_match  752 non-null    object\n",
            " 14  venue            756 non-null    object\n",
            " 15  umpire1          754 non-null    object\n",
            " 16  umpire2          754 non-null    object\n",
            " 17  umpire3          119 non-null    object\n",
            "dtypes: int64(5), object(13)\n",
            "memory usage: 106.4+ KB\n"
          ]
        }
      ]
    },
    {
      "cell_type": "markdown",
      "metadata": {
        "id": "hJY9MGcwRRrs"
      },
      "source": [
        "Data Preprocessing :"
      ]
    },
    {
      "cell_type": "code",
      "metadata": {
        "colab": {
          "base_uri": "https://localhost:8080/"
        },
        "id": "irZl445oRAms",
        "outputId": "6af94c27-86c1-49e2-f9ba-86a879d6f68d"
      },
      "source": [
        "data.isna().any()"
      ],
      "execution_count": 9,
      "outputs": [
        {
          "output_type": "execute_result",
          "data": {
            "text/plain": [
              "id                 False\n",
              "season             False\n",
              "city                True\n",
              "date               False\n",
              "team1              False\n",
              "team2              False\n",
              "toss_winner        False\n",
              "toss_decision      False\n",
              "result             False\n",
              "dl_applied         False\n",
              "winner              True\n",
              "win_by_runs        False\n",
              "win_by_wickets     False\n",
              "player_of_match     True\n",
              "venue              False\n",
              "umpire1             True\n",
              "umpire2             True\n",
              "umpire3             True\n",
              "dtype: bool"
            ]
          },
          "metadata": {},
          "execution_count": 9
        }
      ]
    },
    {
      "cell_type": "markdown",
      "metadata": {
        "id": "ewxequtWTG7X"
      },
      "source": [
        "Percentage of missing values in the dataset:"
      ]
    },
    {
      "cell_type": "code",
      "metadata": {
        "colab": {
          "base_uri": "https://localhost:8080/"
        },
        "id": "fxO-B3lURPW3",
        "outputId": "fc883573-f45c-4c37-fff7-a4b6cce5fcea"
      },
      "source": [
        "missing_values = (((data.isnull().sum()).sum())/data.size)*100\n",
        "print(missing_values)"
      ],
      "execution_count": 10,
      "outputs": [
        {
          "output_type": "stream",
          "name": "stdout",
          "text": [
            "4.820693709582598\n"
          ]
        }
      ]
    },
    {
      "cell_type": "code",
      "metadata": {
        "colab": {
          "base_uri": "https://localhost:8080/",
          "height": 297
        },
        "id": "2Z2k01idSi9E",
        "outputId": "31831e2a-1e52-45e8-b230-5b2116fd2f06"
      },
      "source": [
        "data.describe()"
      ],
      "execution_count": 11,
      "outputs": [
        {
          "output_type": "execute_result",
          "data": {
            "text/html": [
              "<div>\n",
              "<style scoped>\n",
              "    .dataframe tbody tr th:only-of-type {\n",
              "        vertical-align: middle;\n",
              "    }\n",
              "\n",
              "    .dataframe tbody tr th {\n",
              "        vertical-align: top;\n",
              "    }\n",
              "\n",
              "    .dataframe thead th {\n",
              "        text-align: right;\n",
              "    }\n",
              "</style>\n",
              "<table border=\"1\" class=\"dataframe\">\n",
              "  <thead>\n",
              "    <tr style=\"text-align: right;\">\n",
              "      <th></th>\n",
              "      <th>id</th>\n",
              "      <th>season</th>\n",
              "      <th>dl_applied</th>\n",
              "      <th>win_by_runs</th>\n",
              "      <th>win_by_wickets</th>\n",
              "    </tr>\n",
              "  </thead>\n",
              "  <tbody>\n",
              "    <tr>\n",
              "      <th>count</th>\n",
              "      <td>756.000000</td>\n",
              "      <td>756.000000</td>\n",
              "      <td>756.000000</td>\n",
              "      <td>756.000000</td>\n",
              "      <td>756.000000</td>\n",
              "    </tr>\n",
              "    <tr>\n",
              "      <th>mean</th>\n",
              "      <td>1792.178571</td>\n",
              "      <td>2013.444444</td>\n",
              "      <td>0.025132</td>\n",
              "      <td>13.283069</td>\n",
              "      <td>3.350529</td>\n",
              "    </tr>\n",
              "    <tr>\n",
              "      <th>std</th>\n",
              "      <td>3464.478148</td>\n",
              "      <td>3.366895</td>\n",
              "      <td>0.156630</td>\n",
              "      <td>23.471144</td>\n",
              "      <td>3.387963</td>\n",
              "    </tr>\n",
              "    <tr>\n",
              "      <th>min</th>\n",
              "      <td>1.000000</td>\n",
              "      <td>2008.000000</td>\n",
              "      <td>0.000000</td>\n",
              "      <td>0.000000</td>\n",
              "      <td>0.000000</td>\n",
              "    </tr>\n",
              "    <tr>\n",
              "      <th>25%</th>\n",
              "      <td>189.750000</td>\n",
              "      <td>2011.000000</td>\n",
              "      <td>0.000000</td>\n",
              "      <td>0.000000</td>\n",
              "      <td>0.000000</td>\n",
              "    </tr>\n",
              "    <tr>\n",
              "      <th>50%</th>\n",
              "      <td>378.500000</td>\n",
              "      <td>2013.000000</td>\n",
              "      <td>0.000000</td>\n",
              "      <td>0.000000</td>\n",
              "      <td>4.000000</td>\n",
              "    </tr>\n",
              "    <tr>\n",
              "      <th>75%</th>\n",
              "      <td>567.250000</td>\n",
              "      <td>2016.000000</td>\n",
              "      <td>0.000000</td>\n",
              "      <td>19.000000</td>\n",
              "      <td>6.000000</td>\n",
              "    </tr>\n",
              "    <tr>\n",
              "      <th>max</th>\n",
              "      <td>11415.000000</td>\n",
              "      <td>2019.000000</td>\n",
              "      <td>1.000000</td>\n",
              "      <td>146.000000</td>\n",
              "      <td>10.000000</td>\n",
              "    </tr>\n",
              "  </tbody>\n",
              "</table>\n",
              "</div>"
            ],
            "text/plain": [
              "                 id       season  dl_applied  win_by_runs  win_by_wickets\n",
              "count    756.000000   756.000000  756.000000   756.000000      756.000000\n",
              "mean    1792.178571  2013.444444    0.025132    13.283069        3.350529\n",
              "std     3464.478148     3.366895    0.156630    23.471144        3.387963\n",
              "min        1.000000  2008.000000    0.000000     0.000000        0.000000\n",
              "25%      189.750000  2011.000000    0.000000     0.000000        0.000000\n",
              "50%      378.500000  2013.000000    0.000000     0.000000        4.000000\n",
              "75%      567.250000  2016.000000    0.000000    19.000000        6.000000\n",
              "max    11415.000000  2019.000000    1.000000   146.000000       10.000000"
            ]
          },
          "metadata": {},
          "execution_count": 11
        }
      ]
    },
    {
      "cell_type": "code",
      "metadata": {
        "colab": {
          "base_uri": "https://localhost:8080/"
        },
        "id": "EbLNt10gTQqb",
        "outputId": "a979c971-397c-4f57-a18f-9774cf0754ae"
      },
      "source": [
        "data.dtypes"
      ],
      "execution_count": 12,
      "outputs": [
        {
          "output_type": "execute_result",
          "data": {
            "text/plain": [
              "id                  int64\n",
              "season              int64\n",
              "city               object\n",
              "date               object\n",
              "team1              object\n",
              "team2              object\n",
              "toss_winner        object\n",
              "toss_decision      object\n",
              "result             object\n",
              "dl_applied          int64\n",
              "winner             object\n",
              "win_by_runs         int64\n",
              "win_by_wickets      int64\n",
              "player_of_match    object\n",
              "venue              object\n",
              "umpire1            object\n",
              "umpire2            object\n",
              "umpire3            object\n",
              "dtype: object"
            ]
          },
          "metadata": {},
          "execution_count": 12
        }
      ]
    },
    {
      "cell_type": "markdown",
      "metadata": {
        "id": "PN7Mginc3rOR"
      },
      "source": [
        "**How many matches(in total) were played according to the dataset?**"
      ]
    },
    {
      "cell_type": "code",
      "metadata": {
        "id": "XpBSeqIQTg0f",
        "colab": {
          "base_uri": "https://localhost:8080/"
        },
        "outputId": "b2711b26-5d63-41a1-8e95-839f0c1a0cec"
      },
      "source": [
        "data.id.count() #As ID is the primary key as well as a non-null value we can use it to find the no of matches \n",
        "#Apparently in this scenario the no of matches is equal to the number of rows in the dataset or number of data values present in the dataset"
      ],
      "execution_count": 16,
      "outputs": [
        {
          "output_type": "execute_result",
          "data": {
            "text/plain": [
              "756"
            ]
          },
          "metadata": {},
          "execution_count": 16
        }
      ]
    },
    {
      "cell_type": "markdown",
      "metadata": {
        "id": "4KCGh_LE4bWZ"
      },
      "source": [
        "**How many IPL seasons are there in the given dataset**"
      ]
    },
    {
      "cell_type": "code",
      "metadata": {
        "colab": {
          "base_uri": "https://localhost:8080/"
        },
        "id": "UpoyMOIc383E",
        "outputId": "ae80d80d-9eec-4e6a-9c37-dd33024735da"
      },
      "source": [
        "data.season.unique()"
      ],
      "execution_count": 17,
      "outputs": [
        {
          "output_type": "execute_result",
          "data": {
            "text/plain": [
              "array([2017, 2008, 2009, 2010, 2011, 2012, 2013, 2014, 2015, 2016, 2018,\n",
              "       2019])"
            ]
          },
          "metadata": {},
          "execution_count": 17
        }
      ]
    },
    {
      "cell_type": "markdown",
      "metadata": {
        "id": "JvacROmS4n5W"
      },
      "source": [
        "Thus here in this dataset we have about 12 different seasons like 2017 season , 2008 season and so on.. in which matches are played "
      ]
    },
    {
      "cell_type": "markdown",
      "metadata": {
        "id": "lo9GuQTP5xgW"
      },
      "source": [
        "**Which Team Won by scoring maximum runs?**"
      ]
    },
    {
      "cell_type": "code",
      "metadata": {
        "colab": {
          "base_uri": "https://localhost:8080/"
        },
        "id": "avG4hRSj4l4B",
        "outputId": "b432d811-1ffd-4447-b1f4-6f4c8c0824ca"
      },
      "source": [
        "data.iloc[data['win_by_runs'].idxmax()]"
      ],
      "execution_count": 18,
      "outputs": [
        {
          "output_type": "execute_result",
          "data": {
            "text/plain": [
              "id                               44\n",
              "season                         2017\n",
              "city                          Delhi\n",
              "date                     2017-05-06\n",
              "team1                Mumbai Indians\n",
              "team2              Delhi Daredevils\n",
              "toss_winner        Delhi Daredevils\n",
              "toss_decision                 field\n",
              "result                       normal\n",
              "dl_applied                        0\n",
              "winner               Mumbai Indians\n",
              "win_by_runs                     146\n",
              "win_by_wickets                    0\n",
              "player_of_match         LMP Simmons\n",
              "venue              Feroz Shah Kotla\n",
              "umpire1                 Nitin Menon\n",
              "umpire2                   CK Nandan\n",
              "umpire3                         NaN\n",
              "Name: 43, dtype: object"
            ]
          },
          "metadata": {},
          "execution_count": 18
        }
      ]
    },
    {
      "cell_type": "markdown",
      "metadata": {
        "id": "4uwEOb2TCuoq"
      },
      "source": [
        "**Which Team Won by scoring maximum wickets?**"
      ]
    },
    {
      "cell_type": "code",
      "metadata": {
        "colab": {
          "base_uri": "https://localhost:8080/"
        },
        "id": "YgcthlNZCTtu",
        "outputId": "82f0265d-b954-4b04-a5bc-8edbf8e24cfc"
      },
      "source": [
        "data.iloc[data['win_by_wickets'].idxmax()]"
      ],
      "execution_count": 19,
      "outputs": [
        {
          "output_type": "execute_result",
          "data": {
            "text/plain": [
              "id                                                      3\n",
              "season                                               2017\n",
              "city                                               Rajkot\n",
              "date                                           2017-04-07\n",
              "team1                                       Gujarat Lions\n",
              "team2                               Kolkata Knight Riders\n",
              "toss_winner                         Kolkata Knight Riders\n",
              "toss_decision                                       field\n",
              "result                                             normal\n",
              "dl_applied                                              0\n",
              "winner                              Kolkata Knight Riders\n",
              "win_by_runs                                             0\n",
              "win_by_wickets                                         10\n",
              "player_of_match                                   CA Lynn\n",
              "venue              Saurashtra Cricket Association Stadium\n",
              "umpire1                                       Nitin Menon\n",
              "umpire2                                         CK Nandan\n",
              "umpire3                                               NaN\n",
              "Name: 2, dtype: object"
            ]
          },
          "metadata": {},
          "execution_count": 19
        }
      ]
    },
    {
      "cell_type": "markdown",
      "metadata": {
        "id": "wywkn7iMDEzo"
      },
      "source": [
        "**Which team won by scoring minimum wicket?**"
      ]
    },
    {
      "cell_type": "code",
      "metadata": {
        "colab": {
          "base_uri": "https://localhost:8080/",
          "height": 35
        },
        "id": "t5gXcGeoC5ZX",
        "outputId": "21a9f593-6f2a-44c4-d31f-2629ff69ec8b"
      },
      "source": [
        "data.iloc[data['win_by_wickets'].idxmin()]['winner']"
      ],
      "execution_count": 21,
      "outputs": [
        {
          "output_type": "execute_result",
          "data": {
            "application/vnd.google.colaboratory.intrinsic+json": {
              "type": "string"
            },
            "text/plain": [
              "'Sunrisers Hyderabad'"
            ]
          },
          "metadata": {},
          "execution_count": 21
        }
      ]
    },
    {
      "cell_type": "markdown",
      "metadata": {
        "id": "oSeODjDeDlku"
      },
      "source": [
        "**Which season consisted of the highest number of matches ever played?**"
      ]
    },
    {
      "cell_type": "code",
      "metadata": {
        "colab": {
          "base_uri": "https://localhost:8080/",
          "height": 279
        },
        "id": "XVTaB9LCDNNK",
        "outputId": "d5553cf3-5ba8-408e-9bba-116fb0f3754f"
      },
      "source": [
        "fig_dims=(20,4)\n",
        "fig, ax= plt.subplots(figsize=fig_dims)\n",
        "sns.countplot(x='season',data=data)\n",
        "plt.show()"
      ],
      "execution_count": 25,
      "outputs": [
        {
          "output_type": "display_data",
          "data": {
            "image/png": "[encoded data removed]",
            "text/plain": [
              "<Figure size 1440x288 with 1 Axes>"
            ]
          },
          "metadata": {
            "needs_background": "light"
          }
        }
      ]
    },
    {
      "cell_type": "markdown",
      "metadata": {
        "id": "L5v90jsfE6kP"
      },
      "source": [
        "*Conclusion:* The 2013 season seems to have the highest number of matches about 72 matches in the given dataset"
      ]
    },
    {
      "cell_type": "markdown",
      "metadata": {
        "id": "-K_bdOqZIR5d"
      },
      "source": [
        "## **Which is the most successful team with all the data at hand?**"
      ]
    },
    {
      "cell_type": "code",
      "metadata": {
        "colab": {
          "base_uri": "https://localhost:8080/",
          "height": 296
        },
        "id": "OV_d4vLAEI5b",
        "outputId": "2be7bbd5-de09-4c70-dee1-5e35ee4f6441"
      },
      "source": [
        "data1= data.winner.value_counts()\n",
        "sns.barplot(y= data1.index,x= data1)"
      ],
      "execution_count": 28,
      "outputs": [
        {
          "output_type": "execute_result",
          "data": {
            "text/plain": [
              "<matplotlib.axes._subplots.AxesSubplot at 0x7fdf45818710>"
            ]
          },
          "metadata": {},
          "execution_count": 28
        },
        {
          "output_type": "display_data",
          "data": {
            "image/png": "[encoded data removed]",
            "text/plain": [
              "<Figure size 432x288 with 1 Axes>"
            ]
          },
          "metadata": {
            "needs_background": "light"
          }
        }
      ]
    },
    {
      "cell_type": "code",
      "metadata": {
        "colab": {
          "base_uri": "https://localhost:8080/"
        },
        "id": "Nsn-s4qxIrsH",
        "outputId": "4857ae18-3e90-4dc8-95bf-bdafc25af217"
      },
      "source": [
        "print(data1)"
      ],
      "execution_count": 29,
      "outputs": [
        {
          "output_type": "stream",
          "name": "stdout",
          "text": [
            "Mumbai Indians                 109\n",
            "Chennai Super Kings            100\n",
            "Kolkata Knight Riders           92\n",
            "Royal Challengers Bangalore     84\n",
            "Kings XI Punjab                 82\n",
            "Rajasthan Royals                75\n",
            "Delhi Daredevils                67\n",
            "Sunrisers Hyderabad             58\n",
            "Deccan Chargers                 29\n",
            "Gujarat Lions                   13\n",
            "Pune Warriors                   12\n",
            "Rising Pune Supergiant          10\n",
            "Delhi Capitals                  10\n",
            "Kochi Tuskers Kerala             6\n",
            "Rising Pune Supergiants          5\n",
            "Name: winner, dtype: int64\n"
          ]
        }
      ]
    },
    {
      "cell_type": "markdown",
      "metadata": {
        "id": "Od72cJB4K7zb"
      },
      "source": [
        "**What is the probability of winning a match if the toss was win?**"
      ]
    },
    {
      "cell_type": "code",
      "metadata": {
        "colab": {
          "base_uri": "https://localhost:8080/"
        },
        "id": "nq5Z2rW7I87X",
        "outputId": "c24b79af-fc11-4703-869e-dc13fa8ff156"
      },
      "source": [
        "probability_of_win = data['toss_winner']== data['winner']\n",
        "probability_of_win.groupby(probability_of_win).size()"
      ],
      "execution_count": 30,
      "outputs": [
        {
          "output_type": "execute_result",
          "data": {
            "text/plain": [
              "False    363\n",
              "True     393\n",
              "dtype: int64"
            ]
          },
          "metadata": {},
          "execution_count": 30
        }
      ]
    },
    {
      "cell_type": "code",
      "metadata": {
        "colab": {
          "base_uri": "https://localhost:8080/",
          "height": 336
        },
        "id": "rJlt7RqkLgqT",
        "outputId": "fb11f2eb-464b-43c1-e9cf-35962654a632"
      },
      "source": [
        "sns.countplot(probability_of_win)"
      ],
      "execution_count": 31,
      "outputs": [
        {
          "output_type": "stream",
          "name": "stderr",
          "text": [
            "/usr/local/lib/python3.7/dist-packages/seaborn/_decorators.py:43: FutureWarning: Pass the following variable as a keyword arg: x. From version 0.12, the only valid positional argument will be `data`, and passing other arguments without an explicit keyword will result in an error or misinterpretation.\n",
            "  FutureWarning\n"
          ]
        },
        {
          "output_type": "execute_result",
          "data": {
            "text/plain": [
              "<matplotlib.axes._subplots.AxesSubplot at 0x7fdf4570ded0>"
            ]
          },
          "metadata": {},
          "execution_count": 31
        },
        {
          "output_type": "display_data",
          "data": {
            "image/png": "[encoded data removed]",
            "text/plain": [
              "<Figure size 432x288 with 1 Axes>"
            ]
          },
          "metadata": {
            "needs_background": "light"
          }
        }
      ]
    },
    {
      "cell_type": "markdown",
      "metadata": {
        "id": "0nbOSYJ9Lucd"
      },
      "source": [
        "**Setting a higher row width**"
      ]
    },
    {
      "cell_type": "code",
      "metadata": {
        "colab": {
          "base_uri": "https://localhost:8080/"
        },
        "id": "l3TOThUeNbcK",
        "outputId": "81aeed0b-7b13-4060-abd3-4350d12b4672"
      },
      "source": [
        "pd.set_option('max_rows',999999)\n",
        "pd.set_option('max_colwidth',400)\n",
        "pd.describe_option('max_colwidth')"
      ],
      "execution_count": 33,
      "outputs": [
        {
          "output_type": "stream",
          "name": "stdout",
          "text": [
            "display.max_colwidth : int or None\n",
            "    The maximum width in characters of a column in the repr of\n",
            "    a pandas data structure. When the column overflows, a \"...\"\n",
            "    placeholder is embedded in the output. A 'None' value means unlimited.\n",
            "    [default: 50] [currently: 400]\n"
          ]
        }
      ]
    },
    {
      "cell_type": "markdown",
      "metadata": {
        "id": "uiOz4POlNU1S"
      },
      "source": [
        "**Highest wins by teams per season**"
      ]
    },
    {
      "cell_type": "code",
      "metadata": {
        "colab": {
          "base_uri": "https://localhost:8080/"
        },
        "id": "KNFALSh-LqDi",
        "outputId": "f10aeabb-6781-4267-c350-47a1113e7aaf"
      },
      "source": [
        "data.groupby('season')['winner'].value_counts()"
      ],
      "execution_count": 34,
      "outputs": [
        {
          "output_type": "execute_result",
          "data": {
            "text/plain": [
              "season  winner                     \n",
              "2008    Rajasthan Royals               13\n",
              "        Kings XI Punjab                10\n",
              "        Chennai Super Kings             9\n",
              "        Delhi Daredevils                7\n",
              "        Mumbai Indians                  7\n",
              "        Kolkata Knight Riders           6\n",
              "        Royal Challengers Bangalore     4\n",
              "        Deccan Chargers                 2\n",
              "2009    Delhi Daredevils               10\n",
              "        Deccan Chargers                 9\n",
              "        Royal Challengers Bangalore     9\n",
              "        Chennai Super Kings             8\n",
              "        Kings XI Punjab                 7\n",
              "        Rajasthan Royals                6\n",
              "        Mumbai Indians                  5\n",
              "        Kolkata Knight Riders           3\n",
              "2010    Mumbai Indians                 11\n",
              "        Chennai Super Kings             9\n",
              "        Deccan Chargers                 8\n",
              "        Royal Challengers Bangalore     8\n",
              "        Delhi Daredevils                7\n",
              "        Kolkata Knight Riders           7\n",
              "        Rajasthan Royals                6\n",
              "        Kings XI Punjab                 4\n",
              "2011    Chennai Super Kings            11\n",
              "        Mumbai Indians                 10\n",
              "        Royal Challengers Bangalore    10\n",
              "        Kolkata Knight Riders           8\n",
              "        Kings XI Punjab                 7\n",
              "        Deccan Chargers                 6\n",
              "        Kochi Tuskers Kerala            6\n",
              "        Rajasthan Royals                6\n",
              "        Delhi Daredevils                4\n",
              "        Pune Warriors                   4\n",
              "2012    Kolkata Knight Riders          12\n",
              "        Delhi Daredevils               11\n",
              "        Chennai Super Kings            10\n",
              "        Mumbai Indians                 10\n",
              "        Kings XI Punjab                 8\n",
              "        Royal Challengers Bangalore     8\n",
              "        Rajasthan Royals                7\n",
              "        Deccan Chargers                 4\n",
              "        Pune Warriors                   4\n",
              "2013    Mumbai Indians                 13\n",
              "        Chennai Super Kings            12\n",
              "        Rajasthan Royals               11\n",
              "        Sunrisers Hyderabad            10\n",
              "        Royal Challengers Bangalore     9\n",
              "        Kings XI Punjab                 8\n",
              "        Kolkata Knight Riders           6\n",
              "        Pune Warriors                   4\n",
              "        Delhi Daredevils                3\n",
              "2014    Kings XI Punjab                12\n",
              "        Kolkata Knight Riders          11\n",
              "        Chennai Super Kings            10\n",
              "        Mumbai Indians                  7\n",
              "        Rajasthan Royals                7\n",
              "        Sunrisers Hyderabad             6\n",
              "        Royal Challengers Bangalore     5\n",
              "        Delhi Daredevils                2\n",
              "2015    Chennai Super Kings            10\n",
              "        Mumbai Indians                 10\n",
              "        Royal Challengers Bangalore     8\n",
              "        Kolkata Knight Riders           7\n",
              "        Rajasthan Royals                7\n",
              "        Sunrisers Hyderabad             7\n",
              "        Delhi Daredevils                5\n",
              "        Kings XI Punjab                 3\n",
              "2016    Sunrisers Hyderabad            11\n",
              "        Gujarat Lions                   9\n",
              "        Royal Challengers Bangalore     9\n",
              "        Kolkata Knight Riders           8\n",
              "        Delhi Daredevils                7\n",
              "        Mumbai Indians                  7\n",
              "        Rising Pune Supergiants         5\n",
              "        Kings XI Punjab                 4\n",
              "2017    Mumbai Indians                 12\n",
              "        Rising Pune Supergiant         10\n",
              "        Kolkata Knight Riders           9\n",
              "        Sunrisers Hyderabad             8\n",
              "        Kings XI Punjab                 7\n",
              "        Delhi Daredevils                6\n",
              "        Gujarat Lions                   4\n",
              "        Royal Challengers Bangalore     3\n",
              "2018    Chennai Super Kings            11\n",
              "        Sunrisers Hyderabad            10\n",
              "        Kolkata Knight Riders           9\n",
              "        Rajasthan Royals                7\n",
              "        Kings XI Punjab                 6\n",
              "        Mumbai Indians                  6\n",
              "        Royal Challengers Bangalore     6\n",
              "        Delhi Daredevils                5\n",
              "2019    Mumbai Indians                 11\n",
              "        Chennai Super Kings            10\n",
              "        Delhi Capitals                 10\n",
              "        Kings XI Punjab                 6\n",
              "        Kolkata Knight Riders           6\n",
              "        Sunrisers Hyderabad             6\n",
              "        Rajasthan Royals                5\n",
              "        Royal Challengers Bangalore     5\n",
              "Name: winner, dtype: int64"
            ]
          },
          "metadata": {},
          "execution_count": 34
        }
      ]
    },
    {
      "cell_type": "code",
      "metadata": {
        "colab": {
          "base_uri": "https://localhost:8080/"
        },
        "id": "E8TXwVKkMqXs",
        "outputId": "30e883ab-3d89-4177-994f-b06ef976dca5"
      },
      "source": [
        "data['toss_decision'].value_counts()"
      ],
      "execution_count": 35,
      "outputs": [
        {
          "output_type": "execute_result",
          "data": {
            "text/plain": [
              "field    463\n",
              "bat      293\n",
              "Name: toss_decision, dtype: int64"
            ]
          },
          "metadata": {},
          "execution_count": 35
        }
      ]
    },
    {
      "cell_type": "markdown",
      "metadata": {
        "id": "yuZqBVQJOGgB"
      },
      "source": [
        "**Man of the match - Highest to lowest (in won match)**"
      ]
    },
    {
      "cell_type": "code",
      "metadata": {
        "colab": {
          "base_uri": "https://localhost:8080/"
        },
        "id": "29BNnbEiN-yf",
        "outputId": "dec1b82f-6490-43cc-d9da-7e63c868d6f7"
      },
      "source": [
        "data['player_of_match'].value_counts()"
      ],
      "execution_count": 36,
      "outputs": [
        {
          "output_type": "execute_result",
          "data": {
            "text/plain": [
              "CH Gayle             21\n",
              "AB de Villiers       20\n",
              "DA Warner            17\n",
              "RG Sharma            17\n",
              "MS Dhoni             17\n",
              "YK Pathan            16\n",
              "SR Watson            15\n",
              "SK Raina             14\n",
              "G Gambhir            13\n",
              "MEK Hussey           12\n",
              "AM Rahane            12\n",
              "V Kohli              12\n",
              "DR Smith             11\n",
              "AD Russell           11\n",
              "A Mishra             11\n",
              "V Sehwag             11\n",
              "KA Pollard           10\n",
              "JH Kallis            10\n",
              "SP Narine             9\n",
              "SE Marsh              9\n",
              "AT Rayudu             9\n",
              "SR Tendulkar          8\n",
              "UT Yadav              8\n",
              "RA Jadeja             8\n",
              "Harbhajan Singh       8\n",
              "Rashid Khan           7\n",
              "RV Uthappa            7\n",
              "AC Gilchrist          7\n",
              "A Nehra               6\n",
              "RR Pant               6\n",
              "BJ Hodge              6\n",
              "HH Pandya             6\n",
              "S Dhawan              6\n",
              "SL Malinga            6\n",
              "M Vijay               6\n",
              "AJ Finch              5\n",
              "DPMD Jayawardene      5\n",
              "JP Faulkner           5\n",
              "BB McCullum           5\n",
              "DW Steyn              5\n",
              "PA Patel              5\n",
              "JD Unadkat            5\n",
              "Yuvraj Singh          5\n",
              "GJ Maxwell            5\n",
              "SPD Smith             5\n",
              "KC Sangakkara         5\n",
              "B Kumar               5\n",
              "JJ Bumrah             5\n",
              "Sandeep Sharma        5\n",
              "SC Ganguly            5\n",
              "SV Samson             5\n",
              "JC Buttler            5\n",
              "MK Pandey             4\n",
              "KD Karthik            4\n",
              "ML Hayden             4\n",
              "KL Rahul              4\n",
              "JP Duminy             4\n",
              "SK Warne              4\n",
              "SS Iyer               4\n",
              "CA Lynn               4\n",
              "F du Plessis          4\n",
              "NM Coulter-Nile       4\n",
              "N Rana                4\n",
              "KH Pandya             4\n",
              "AR Patel              4\n",
              "KP Pietersen          3\n",
              "PP Chawla             3\n",
              "Mandeep Singh         3\n",
              "DJ Bravo              3\n",
              "CJ Anderson           3\n",
              "L Balaji              3\n",
              "LMP Simmons           3\n",
              "BA Stokes             3\n",
              "A Symonds             3\n",
              "KK Nair               3\n",
              "KS Williamson         3\n",
              "A Kumble              3\n",
              "MK Tiwary             3\n",
              "M Vohra               3\n",
              "DA Miller             3\n",
              "LRPL Taylor           3\n",
              "R Vinay Kumar         3\n",
              "WP Saha               3\n",
              "SM Pollock            2\n",
              "AJ Tye                2\n",
              "BW Hilfenhaus         2\n",
              "DJ Hussey             2\n",
              "P Negi                2\n",
              "R Dravid              2\n",
              "GH Vihari             2\n",
              "M Muralitharan        2\n",
              "KM Jadhav             2\n",
              "ST Jayasuriya         2\n",
              "MA Agarwal            2\n",
              "Shakib Al Hasan       2\n",
              "MV Boucher            2\n",
              "P Kumar               2\n",
              "Sohail Tanvir         2\n",
              "CH Morris             2\n",
              "MP Stoinis            2\n",
              "IK Pathan             2\n",
              "I Sharma              2\n",
              "PV Tambe              2\n",
              "M Ntini               2\n",
              "MC Henriques          2\n",
              "R Ashwin              2\n",
              "DE Bollinger          2\n",
              "Harmeet Singh         2\n",
              "B Lee                 2\n",
              "VR Aaron              2\n",
              "S Gopal               2\n",
              "Iqbal Abdulla         2\n",
              "AS Rajpoot            2\n",
              "AS Yadav              2\n",
              "MM Patel              2\n",
              "MJ McClenaghan        2\n",
              "Azhar Mahmood         2\n",
              "PC Valthaty           2\n",
              "GC Smith              2\n",
              "J Bairstow            2\n",
              "R Sharma              2\n",
              "AB Dinda              2\n",
              "HM Amla               2\n",
              "JA Morkel             2\n",
              "M Morkel              2\n",
              "SK Trivedi            2\n",
              "MM Sharma             2\n",
              "MG Johnson            2\n",
              "HV Patel              2\n",
              "MJ Lumb               1\n",
              "P Parameswaran        1\n",
              "JD Ryder              1\n",
              "KK Cooper             1\n",
              "JEC Franklin          1\n",
              "MR Marsh              1\n",
              "SW Billings           1\n",
              "Shoaib Akhtar         1\n",
              "S Hetmyer             1\n",
              "SA Asnodkar           1\n",
              "Imran Tahir           1\n",
              "TM Dilshan            1\n",
              "H Gurney              1\n",
              "J Archer              1\n",
              "Washington Sundar     1\n",
              "CRD Fernando          1\n",
              "WPUJC Vaas            1\n",
              "MF Maharoof           1\n",
              "JDP Oram              1\n",
              "SB Jakati             1\n",
              "A Zampa               1\n",
              "S Sohal               1\n",
              "NV Ojha               1\n",
              "Ishan Kishan          1\n",
              "J Botha               1\n",
              "Kuldeep Yadav         1\n",
              "Mohammed Shami        1\n",
              "BA Bhatt              1\n",
              "Umar Gul              1\n",
              "SA Yadav              1\n",
              "DJ Hooda              1\n",
              "S Nadeem              1\n",
              "JJ Roy                1\n",
              "RA Tripathi           1\n",
              "TA Boult              1\n",
              "DP Nannes             1\n",
              "DL Vettori            1\n",
              "RE Levi               1\n",
              "SP Goswami            1\n",
              "AP Tare               1\n",
              "M Ur Rahman           1\n",
              "RS Bopara             1\n",
              "SM Katich             1\n",
              "Mustafizur Rahman     1\n",
              "Mohammed Siraj        1\n",
              "A Chandila            1\n",
              "MA Starc              1\n",
              "M Kartik              1\n",
              "K Rabada              1\n",
              "TL Suman              1\n",
              "RP Singh              1\n",
              "S Anirudha            1\n",
              "S Badrinath           1\n",
              "L Ngidi               1\n",
              "J Theron              1\n",
              "S Aravind             1\n",
              "AD Mascarenhas        1\n",
              "BCJ Cutting           1\n",
              "S Curran              1\n",
              "S Sreesanth           1\n",
              "AD Mathews            1\n",
              "RJ Harris             1\n",
              "K Paul                1\n",
              "LJ Wright             1\n",
              "LH Ferguson           1\n",
              "CL White              1\n",
              "A Joseph              1\n",
              "AC Voges              1\n",
              "Q de Kock             1\n",
              "TG Southee            1\n",
              "Z Khan                1\n",
              "GJ Bailey             1\n",
              "LR Shukla             1\n",
              "K Ahmed               1\n",
              "PP Ojha               1\n",
              "KMDN Kulasekara       1\n",
              "MS Bisla              1\n",
              "KV Sharma             1\n",
              "MD Mishra             1\n",
              "A Singh               1\n",
              "S Gill                1\n",
              "MN Samuels            1\n",
              "EJG Morgan            1\n",
              "B Stanlake            1\n",
              "R Bhatia              1\n",
              "GD McGrath            1\n",
              "YS Chahal             1\n",
              "CR Brathwaite         1\n",
              "DJG Sammy             1\n",
              "HH Gibbs              1\n",
              "R McLaren             1\n",
              "AA Jhunjhunwala       1\n",
              "SB Wagh               1\n",
              "P Shaw                1\n",
              "DL Chahar             1\n",
              "MS Gony               1\n",
              "PD Collingwood        1\n",
              "Name: player_of_match, dtype: int64"
            ]
          },
          "metadata": {},
          "execution_count": 36
        }
      ]
    },
    {
      "cell_type": "markdown",
      "metadata": {
        "id": "O_Nm0To_On-P"
      },
      "source": [
        "**In which city were the number of matches played?**"
      ]
    },
    {
      "cell_type": "code",
      "metadata": {
        "colab": {
          "base_uri": "https://localhost:8080/"
        },
        "id": "PoBuvrUUOb0F",
        "outputId": "c8d2f0f3-1e57-43a1-f3c1-897f5d1380b4"
      },
      "source": [
        "data['city'].value_counts()"
      ],
      "execution_count": 37,
      "outputs": [
        {
          "output_type": "execute_result",
          "data": {
            "text/plain": [
              "Mumbai            101\n",
              "Kolkata            77\n",
              "Delhi              74\n",
              "Bangalore          66\n",
              "Hyderabad          64\n",
              "Chennai            57\n",
              "Jaipur             47\n",
              "Chandigarh         46\n",
              "Pune               38\n",
              "Durban             15\n",
              "Bengaluru          14\n",
              "Visakhapatnam      13\n",
              "Ahmedabad          12\n",
              "Centurion          12\n",
              "Rajkot             10\n",
              "Mohali             10\n",
              "Dharamsala          9\n",
              "Indore              9\n",
              "Johannesburg        8\n",
              "Cape Town           7\n",
              "Cuttack             7\n",
              "Port Elizabeth      7\n",
              "Ranchi              7\n",
              "Abu Dhabi           7\n",
              "Raipur              6\n",
              "Sharjah             6\n",
              "Kochi               5\n",
              "Kanpur              4\n",
              "Kimberley           3\n",
              "East London         3\n",
              "Nagpur              3\n",
              "Bloemfontein        2\n",
              "Name: city, dtype: int64"
            ]
          },
          "metadata": {},
          "execution_count": 37
        }
      ]
    },
    {
      "cell_type": "code",
      "metadata": {
        "id": "BlBScemzO1b3"
      },
      "source": [
        ""
      ],
      "execution_count": null,
      "outputs": []
    }
  ]
}